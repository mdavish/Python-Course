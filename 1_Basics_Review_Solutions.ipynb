{
 "cells": [
  {
   "cell_type": "markdown",
   "metadata": {},
   "source": [
    "----\n",
    "# Python Basics Review\n",
    "----\n",
    "Although this course requires familiarity with foundational programming concepts, it's useful to review those concepts in Python specifically. Even experienced programmers will benefit from a refresher on Python's data types, control flow syntax, package handling, and other basic concepts. \n",
    "\n",
    "**(Still, if these concepts are completely foreign to you, this course is probably not for you.)**\n",
    "\n",
    "We'll start with the most basic function of any programming language: "
   ]
  },
  {
   "cell_type": "code",
   "execution_count": null,
   "metadata": {},
   "outputs": [],
   "source": [
    "print(\"Hello world\")"
   ]
  },
  {
   "cell_type": "markdown",
   "metadata": {},
   "source": [
    "---\n",
    "## Variables\n",
    "---\n",
    "\n",
    "In Python, variables are declared using the **`=`** sign. You don't need to write **`def`** or **`dim`** or specify the datatype."
   ]
  },
  {
   "cell_type": "code",
   "execution_count": null,
   "metadata": {},
   "outputs": [],
   "source": [
    "#By the way, comments are preceded by the pound sign (aka hashtag) in Python\n",
    "my_number = 6\n",
    "my_fruit = \"apple\"\n",
    "my_boolean = True"
   ]
  },
  {
   "cell_type": "code",
   "execution_count": null,
   "metadata": {},
   "outputs": [],
   "source": [
    "print(my_number)\n",
    "print(my_fruit)\n",
    "print(my_boolean)"
   ]
  },
  {
   "cell_type": "markdown",
   "metadata": {},
   "source": [
    "Some rules about variable names:\n",
    "- There's no limit to how long a variable's name can be. \n",
    "- Variable names can contain uppercase letters, lowercase letters, and numbers, **but** they cannot _start_ with a number.\n",
    "- The underscore character (\\_) can also appear in a variable name and is often used in names with multiple words, such as **`my_name`** or **`airspeed_of_unladen_swallow`**. \n",
    "\n",
    "Some examples of variable names that violate these rules:"
   ]
  },
  {
   "cell_type": "code",
   "execution_count": null,
   "metadata": {},
   "outputs": [],
   "source": [
    "# 76trombones is illegal because it begins with a number. \n",
    "76trombones = 'big parade'"
   ]
  },
  {
   "cell_type": "code",
   "execution_count": null,
   "metadata": {},
   "outputs": [],
   "source": [
    "# more@ is illegal because it contains an illegal character\n",
    "more@ = 1000000"
   ]
  },
  {
   "cell_type": "code",
   "execution_count": null,
   "metadata": {},
   "outputs": [],
   "source": [
    "class = 'Introduction to Programming'"
   ]
  },
  {
   "cell_type": "markdown",
   "metadata": {},
   "source": [
    "What's wrong with the last example? It turns out that **`class`** is one of Python’s **reserved keywords**. \n",
    "Python has 33 reserved keywords, which are listed below and are also [available in the Python manual](https://docs.python.org/3/reference/lexical_analysis.html#keywords). It a very common mistake for beginners to use some of the reserved keywords below as their variable names, so make sure you're familiar with them. The Jupyter IDE will help you, as reserved keywords will be colored in green."
   ]
  },
  {
   "cell_type": "raw",
   "metadata": {},
   "source": [
    "False      class      finally    is         return\n",
    "None       continue   for        lambda     try\n",
    "True       def        from       nonlocal   while\n",
    "and        del        global     not        with\n",
    "as         elif       if         or         yield\n",
    "assert     else       import     pass\n",
    "break      except     in         raise"
   ]
  },
  {
   "cell_type": "markdown",
   "metadata": {},
   "source": [
    "----\n",
    "## Primitive Data Types\n",
    "----\n",
    "The three primitve data types in Python are **strings**, **numbers**, and **booleans**. Let's start with **strings.**\n",
    "\n",
    "## Strings\n",
    "**Strings** are the data type we use to store textual data, which can range from single words to entire news articles or even HTML pages."
   ]
  },
  {
   "cell_type": "code",
   "execution_count": null,
   "metadata": {},
   "outputs": [],
   "source": [
    "string1 = 'You can declare strings with single quotes...'\n",
    "string2 = \"...or double quotes\"\n",
    "print(string1)\n",
    "print(string2)"
   ]
  },
  {
   "cell_type": "markdown",
   "metadata": {},
   "source": [
    "In declaring and printing strings, some characters take on a special meaning:\n",
    "- **`\\n`** adds a new line"
   ]
  },
  {
   "cell_type": "code",
   "execution_count": null,
   "metadata": {},
   "outputs": [],
   "source": [
    "print(\"This is the first line \\n and this is the second line\")"
   ]
  },
  {
   "cell_type": "markdown",
   "metadata": {},
   "source": [
    "- **`\\t`** makes an indentation"
   ]
  },
  {
   "cell_type": "code",
   "execution_count": null,
   "metadata": {},
   "outputs": [],
   "source": [
    "print(\"Daily Total:\\t$5,000 \\nMonthly Total:\\t$123,000\")"
   ]
  },
  {
   "cell_type": "markdown",
   "metadata": {},
   "source": [
    "- The backslash (**`\\`**) _escapes_ the following character, meaning that the character won't perform its normal function and will instead be treated as normal text"
   ]
  },
  {
   "cell_type": "code",
   "execution_count": null,
   "metadata": {},
   "outputs": [],
   "source": [
    "print(\"For example, to print the backslash, use two backslashes: \\\\\")"
   ]
  },
  {
   "cell_type": "code",
   "execution_count": null,
   "metadata": {},
   "outputs": [],
   "source": [
    "print(\"Or maybe I want to write \\\\t or \\\\n instead of adding a tab or new line\")"
   ]
  },
  {
   "cell_type": "code",
   "execution_count": null,
   "metadata": {},
   "outputs": [],
   "source": [
    "print(\"Or maybe I want to use \\\"quotes\\\" within the string itself\")"
   ]
  },
  {
   "cell_type": "markdown",
   "metadata": {},
   "source": [
    "- Prefixing a string with **`r`** makes it a **raw** string, meaning that _all_ of the characters are \"escaped\". This is very useful for declaring filepaths and using **regular expressions**, which we'll encounter later in this course."
   ]
  },
  {
   "cell_type": "code",
   "execution_count": null,
   "metadata": {},
   "outputs": [],
   "source": [
    "print(r\"C:\\ProgramData\\Microsoft\\Windows\\Start Menu\\Programs\\Anaconda3 (64-bit)\")"
   ]
  },
  {
   "cell_type": "code",
   "execution_count": null,
   "metadata": {},
   "outputs": [],
   "source": [
    "#An example of a regular expression:\n",
    "print(r\"(?:(?:(\\s*\\(?([2-9]1[02-9]|[2-9][02-8]1|[2-9][02-8][02-9])\\*)|([2-9]1[02-9]|[29][02-8]1|[2-9][02-8][02-9]))\\)?\\s*(?:[-]\\s*)?)([2-9]1[02-]|[2-9][02-9]1|[2-9[02-9]{2})\\s*(?:[.-\\s*)?([0-9]{4})\")\n",
    "#(This regular expression is used to identify phone numbers)"
   ]
  },
  {
   "cell_type": "markdown",
   "metadata": {},
   "source": [
    "To write a string over multiple lines, use **triple quotes**.\n",
    "\n",
    "This can be useful in storing large strings of text, like articles or speeches:"
   ]
  },
  {
   "cell_type": "code",
   "execution_count": null,
   "metadata": {},
   "outputs": [],
   "source": [
    "string1 = '''\n",
    "Four score and seven years ago our fathers brought forth on this continent, a new nation, conceived in Liberty, and dedicated to the proposition that all men are created equal.\n",
    "\n",
    "Now we are engaged in a great civil war, testing whether that nation, or any nation so conceived and so dedicated, can long endure. \n",
    "\n",
    "We are met on a great battle-field of that war. We have come to dedicate a portion of that field, as a final resting place for those who here gave their lives that that nation might live. It is altogether fitting and proper that we should do this.\n",
    "'''\n",
    "print(string1)"
   ]
  },
  {
   "cell_type": "markdown",
   "metadata": {},
   "source": [
    "There are many useful **functions** and **operations** that we can perform on strings, even in base Python, without any language-processing libraries:\n",
    "- You can **add** (or \"concatenate\") strings together, the same way you would with numbers"
   ]
  },
  {
   "cell_type": "code",
   "execution_count": null,
   "metadata": {},
   "outputs": [],
   "source": [
    "string1 = \"hello\"\n",
    "string2 = \"world\"\n",
    "print(string1+string2)"
   ]
  },
  {
   "cell_type": "code",
   "execution_count": null,
   "metadata": {},
   "outputs": [],
   "source": [
    "#Let's fix that...\n",
    "print(string1 + \" \" + string2)"
   ]
  },
  {
   "cell_type": "markdown",
   "metadata": {},
   "source": [
    "- Using brackets **`[]`** you can **index** a string to find particular letters or sets of letters"
   ]
  },
  {
   "cell_type": "code",
   "execution_count": null,
   "metadata": {},
   "outputs": [],
   "source": [
    "string1 = 'apple'\n",
    "#Since Python's index begins at zero, this returns the first letter of the string:\n",
    "string1[0]"
   ]
  },
  {
   "cell_type": "markdown",
   "metadata": {},
   "source": [
    "The **index operator** also allows other, more dynamic uses:"
   ]
  },
  {
   "cell_type": "code",
   "execution_count": null,
   "metadata": {},
   "outputs": [],
   "source": [
    "print(\"First character: \" + string1[0])\n",
    "print(\"Last character: \" + string1[-1])\n",
    "print(\"First three characters: \" + string1[:3])\n",
    "print(\"Last three characters: \" + string1[-3:])\n",
    "print(\"All characters after the third character: \" + string1[2:])\n",
    "print(\"You get the idea...\")"
   ]
  },
  {
   "cell_type": "markdown",
   "metadata": {},
   "source": [
    "- The **`len`** function counts the number of characters in the string"
   ]
  },
  {
   "cell_type": "code",
   "execution_count": null,
   "metadata": {},
   "outputs": [],
   "source": [
    "len(\"sesquipedalian\")"
   ]
  },
  {
   "cell_type": "markdown",
   "metadata": {},
   "source": [
    "- The **`upper`** and **`lower`** operators change the case of the string"
   ]
  },
  {
   "cell_type": "code",
   "execution_count": null,
   "metadata": {},
   "outputs": [],
   "source": [
    "print(string1.upper())\n",
    "print(\"ALLCAPS\".lower())"
   ]
  },
  {
   "cell_type": "markdown",
   "metadata": {},
   "source": [
    "### Exercise\n",
    "Using the **`len`** function and the **`string1`** variable, print the sentence: \n",
    "> \"apple\" is 5 characters long"
   ]
  },
  {
   "cell_type": "code",
   "execution_count": null,
   "metadata": {},
   "outputs": [],
   "source": [
    "#Don't forget to to convert the resulting number to a string!\n",
    "print(\"\\\"\"+ string1 + \"\\\"\" + \" is \" + str(len(string1)) + \" characters long.\")"
   ]
  },
  {
   "cell_type": "markdown",
   "metadata": {},
   "source": [
    "- The **`startswith`** and **`endswith`** assess whether or not a string starts with a particular character:"
   ]
  },
  {
   "cell_type": "code",
   "execution_count": null,
   "metadata": {},
   "outputs": [],
   "source": [
    "string1.startswith('a')"
   ]
  },
  {
   "cell_type": "code",
   "execution_count": null,
   "metadata": {},
   "outputs": [],
   "source": [
    "string1.endswith('q')"
   ]
  },
  {
   "cell_type": "markdown",
   "metadata": {},
   "source": [
    "- When combining strings and numbers, the **`.format`** operator can help format the number"
   ]
  },
  {
   "cell_type": "code",
   "execution_count": null,
   "metadata": {},
   "outputs": [],
   "source": [
    "number = 2334.4324\n",
    "print(\"The raw number is {num}\".format(num=number))\n",
    "print(\"And the rounded number is {num:.0f}\".format(num=number))"
   ]
  },
  {
   "cell_type": "markdown",
   "metadata": {},
   "source": [
    "This about covers the basics of strings and textual data in Python. Of course, there are far more complicated functions, enabled by libraries, that we can perform on textual data, but we'll save that for later in the course. For more on string operations in base Python, here are some useful resources:\n",
    "\n",
    "- [Full List of String Operators in Base Python](https://docs.python.org/2/library/string.html)\n",
    "- [Number Formatting in Python](https://mkaz.tech/code/python-string-format-cookbook/)"
   ]
  },
  {
   "cell_type": "markdown",
   "metadata": {},
   "source": [
    "## Numeric\n",
    "The second data type, **numeric**, is used to store numbers and quantities. Numberic variables in Python fall into two main categories:\n",
    "- **Integers**: Whole numbers like - 1, 2, 3, -5, 1000, 100000000 etc. \n",
    "- **Floats**: Decimals and fractions like 0.1, 1.1, -0.0004, 23432.2 etc.\n",
    "\n",
    "The distinciton between the two is important because there are certain programming concepts that apply to integers but not floats. Depending on the number, Python will automatically assume the datatype of a number, but they're easily changed:"
   ]
  },
  {
   "cell_type": "code",
   "execution_count": null,
   "metadata": {},
   "outputs": [],
   "source": [
    "#The type() function returns the datatype of a variable\n",
    "my_int = 6\n",
    "type(my_int)"
   ]
  },
  {
   "cell_type": "code",
   "execution_count": null,
   "metadata": {},
   "outputs": [],
   "source": [
    "my_float = 2.3\n",
    "type(my_float)"
   ]
  },
  {
   "cell_type": "code",
   "execution_count": null,
   "metadata": {},
   "outputs": [],
   "source": [
    "my_int = float(my_int)\n",
    "my_int"
   ]
  },
  {
   "cell_type": "code",
   "execution_count": null,
   "metadata": {},
   "outputs": [],
   "source": [
    "#In changing floats to integers, Python rounds to the nearest whole number\n",
    "my_float = int(my_float)\n",
    "my_float"
   ]
  },
  {
   "cell_type": "markdown",
   "metadata": {},
   "source": [
    "Whether integer or float, though, we can basic arithmetic functions on numeric datatypes:"
   ]
  },
  {
   "cell_type": "code",
   "execution_count": null,
   "metadata": {},
   "outputs": [],
   "source": [
    "2 + 2"
   ]
  },
  {
   "cell_type": "code",
   "execution_count": null,
   "metadata": {},
   "outputs": [],
   "source": [
    "4 - 1"
   ]
  },
  {
   "cell_type": "code",
   "execution_count": null,
   "metadata": {},
   "outputs": [],
   "source": [
    "3*3.5"
   ]
  },
  {
   "cell_type": "code",
   "execution_count": null,
   "metadata": {},
   "outputs": [],
   "source": [
    "-4*23"
   ]
  },
  {
   "cell_type": "code",
   "execution_count": null,
   "metadata": {},
   "outputs": [],
   "source": [
    "x = 3 * 100 / 24"
   ]
  },
  {
   "cell_type": "code",
   "execution_count": null,
   "metadata": {},
   "outputs": [],
   "source": [
    "print(x)"
   ]
  },
  {
   "cell_type": "markdown",
   "metadata": {},
   "source": [
    "Don't forget [PEMDAS](https://en.wikipedia.org/wiki/Order_of_operations) - it applies in Python too:"
   ]
  },
  {
   "cell_type": "code",
   "execution_count": null,
   "metadata": {},
   "outputs": [],
   "source": [
    "24*8/(2-4)"
   ]
  },
  {
   "cell_type": "markdown",
   "metadata": {},
   "source": [
    "Don't make the mistake of using commas in declaring numeric variables:"
   ]
  },
  {
   "cell_type": "code",
   "execution_count": null,
   "metadata": {},
   "outputs": [],
   "source": [
    "1,000,000"
   ]
  },
  {
   "cell_type": "markdown",
   "metadata": {},
   "source": [
    "You can also use **`%`** to get find the **remainder** in division."
   ]
  },
  {
   "cell_type": "code",
   "execution_count": null,
   "metadata": {},
   "outputs": [],
   "source": [
    "25%4"
   ]
  },
  {
   "cell_type": "code",
   "execution_count": null,
   "metadata": {},
   "outputs": [],
   "source": [
    "301%100"
   ]
  },
  {
   "cell_type": "markdown",
   "metadata": {},
   "source": [
    "In case you ever need to use **imaginary or complex numbers** in Python, you can declare them by writing **`j`** after them."
   ]
  },
  {
   "cell_type": "code",
   "execution_count": null,
   "metadata": {},
   "outputs": [],
   "source": [
    "1j"
   ]
  },
  {
   "cell_type": "code",
   "execution_count": null,
   "metadata": {},
   "outputs": [],
   "source": [
    "1j*1j"
   ]
  },
  {
   "cell_type": "markdown",
   "metadata": {},
   "source": [
    "Many mathematical functions, however, aren't available in base Python. To use trigonometric functions, logarithms, or exponents, we'll need to import the **`math`** library: "
   ]
  },
  {
   "cell_type": "code",
   "execution_count": null,
   "metadata": {},
   "outputs": [],
   "source": [
    "import math\n",
    "\n",
    "print(\"12! = \" + str(math.factorial(12)))\n",
    "print(\"12^2 = \" + str(math.pow(12,2)))\n",
    "print(\"log(12) = \" + str(math.log(12)))"
   ]
  },
  {
   "cell_type": "markdown",
   "metadata": {},
   "source": [
    "(More on this in the [math library documentation](https://docs.python.org/2/library/math.html).)\n",
    "\n",
    "We can also assess **equality** and **inequality** between numbers, using some basic operators:\n",
    "+ **`==`**: equality of values\n",
    "+ **`<`**: less than\n",
    "+ **`<=`**: less than or equal to\n",
    "+ **`>`**: greater than\n",
    "+ **`>=`**: greater than or equal to\n",
    "+ **`!=`**: not equal to, different than"
   ]
  },
  {
   "cell_type": "code",
   "execution_count": null,
   "metadata": {},
   "outputs": [],
   "source": [
    "3 == 3"
   ]
  },
  {
   "cell_type": "code",
   "execution_count": null,
   "metadata": {},
   "outputs": [],
   "source": [
    "3 == 4"
   ]
  },
  {
   "cell_type": "code",
   "execution_count": null,
   "metadata": {},
   "outputs": [],
   "source": [
    "3 != 4"
   ]
  },
  {
   "cell_type": "code",
   "execution_count": null,
   "metadata": {},
   "outputs": [],
   "source": [
    "500 > 1000"
   ]
  },
  {
   "cell_type": "code",
   "execution_count": null,
   "metadata": {},
   "outputs": [],
   "source": [
    "-3 < 3"
   ]
  },
  {
   "cell_type": "markdown",
   "metadata": {},
   "source": [
    "### Exercise\n",
    "Determine which is greater: 10 factorial or 12 to the 4.5th power."
   ]
  },
  {
   "cell_type": "code",
   "execution_count": null,
   "metadata": {},
   "outputs": [],
   "source": [
    "math.factorial(10) > math.pow(12,4.5)"
   ]
  },
  {
   "cell_type": "code",
   "execution_count": null,
   "metadata": {},
   "outputs": [],
   "source": [
    "math.factorial(10)"
   ]
  },
  {
   "cell_type": "code",
   "execution_count": null,
   "metadata": {},
   "outputs": [],
   "source": [
    "math.pow(12,4.5)"
   ]
  },
  {
   "cell_type": "markdown",
   "metadata": {},
   "source": [
    "In fact, the topic of numeric inequalities segues perfectly into the third data type.\n",
    "### Booleans \n",
    "The last data-type, **booleans**, simply store **`True`** and **`False`** values. They're simple, but they're integral to the functioning of the language.\n",
    "\n",
    "Of course, we can declare variables as such, using **`True`** or **`False`** (again, some of Python's reserved keywords):"
   ]
  },
  {
   "cell_type": "code",
   "execution_count": null,
   "metadata": {},
   "outputs": [],
   "source": [
    "my_boolean = True\n",
    "my_boolean"
   ]
  },
  {
   "cell_type": "markdown",
   "metadata": {},
   "source": [
    "But more often booleans will be generated using other inequalities, like ones discussed above."
   ]
  },
  {
   "cell_type": "code",
   "execution_count": null,
   "metadata": {},
   "outputs": [],
   "source": [
    "my_boolean = 3 == 3\n",
    "my_boolean"
   ]
  },
  {
   "cell_type": "code",
   "execution_count": null,
   "metadata": {},
   "outputs": [],
   "source": [
    "my_boolean = 3 + 3 == 25\n",
    "my_boolean"
   ]
  },
  {
   "cell_type": "markdown",
   "metadata": {},
   "source": [
    "We can evaluate equality between strings, too:"
   ]
  },
  {
   "cell_type": "code",
   "execution_count": null,
   "metadata": {},
   "outputs": [],
   "source": [
    "\"apple\" == \"orange\""
   ]
  },
  {
   "cell_type": "code",
   "execution_count": null,
   "metadata": {},
   "outputs": [],
   "source": [
    "\"apple\" == \"apple\""
   ]
  },
  {
   "cell_type": "code",
   "execution_count": null,
   "metadata": {},
   "outputs": [],
   "source": [
    "'cat' == 'CAT'"
   ]
  },
  {
   "cell_type": "markdown",
   "metadata": {},
   "source": [
    "There are a few important operators that can be used on booleans:\n",
    "- **`not`** returns the _opposite_ of the boolean value\n",
    "- **`or`** assesses whether _any_ of several booleans are **`True`**\n",
    "- **`and`** assesses whether _all_ of several booleans are **`True`**"
   ]
  },
  {
   "cell_type": "code",
   "execution_count": null,
   "metadata": {},
   "outputs": [],
   "source": [
    "not False"
   ]
  },
  {
   "cell_type": "code",
   "execution_count": null,
   "metadata": {},
   "outputs": [],
   "source": [
    "not not True"
   ]
  },
  {
   "cell_type": "code",
   "execution_count": null,
   "metadata": {},
   "outputs": [],
   "source": [
    "not not not False"
   ]
  },
  {
   "cell_type": "code",
   "execution_count": null,
   "metadata": {},
   "outputs": [],
   "source": [
    "True and False and True"
   ]
  },
  {
   "cell_type": "code",
   "execution_count": null,
   "metadata": {},
   "outputs": [],
   "source": [
    "True or False and False and False"
   ]
  },
  {
   "cell_type": "markdown",
   "metadata": {},
   "source": [
    "Remember, parentheses matter:"
   ]
  },
  {
   "cell_type": "code",
   "execution_count": null,
   "metadata": {},
   "outputs": [],
   "source": [
    "False and True or True"
   ]
  },
  {
   "cell_type": "code",
   "execution_count": null,
   "metadata": {},
   "outputs": [],
   "source": [
    "True or True and False"
   ]
  },
  {
   "cell_type": "code",
   "execution_count": null,
   "metadata": {},
   "outputs": [],
   "source": [
    "False and (True or True)"
   ]
  },
  {
   "cell_type": "markdown",
   "metadata": {},
   "source": [
    "Since using **inequality signs** like **`==`**, **`!=`**, **`>`**, etc. produces boolean values, we can use them in conjunction with these operators to assess compound logic:"
   ]
  },
  {
   "cell_type": "code",
   "execution_count": null,
   "metadata": {},
   "outputs": [],
   "source": [
    "\"cat\" == \"dog\" or 3 == 3"
   ]
  },
  {
   "cell_type": "code",
   "execution_count": null,
   "metadata": {},
   "outputs": [],
   "source": [
    "not(\"cat\" == \"dog\") and 4 != 3"
   ]
  },
  {
   "cell_type": "code",
   "execution_count": null,
   "metadata": {},
   "outputs": [],
   "source": [
    "'cat' != 'dog' and 4 != 3"
   ]
  },
  {
   "cell_type": "code",
   "execution_count": null,
   "metadata": {},
   "outputs": [],
   "source": [
    "4 > 3 or 3 < 4"
   ]
  },
  {
   "cell_type": "markdown",
   "metadata": {},
   "source": [
    "**Note:** As with most other programming languages, booleans can also be treated as numbers, with **`True = 1`** and **`False = 0`**"
   ]
  },
  {
   "cell_type": "code",
   "execution_count": null,
   "metadata": {},
   "outputs": [],
   "source": [
    "True + 3"
   ]
  },
  {
   "cell_type": "code",
   "execution_count": null,
   "metadata": {},
   "outputs": [],
   "source": [
    "False == 0"
   ]
  },
  {
   "cell_type": "markdown",
   "metadata": {},
   "source": [
    "----\n",
    "## Data Structures\n",
    "----\n",
    "The three **primitive** data types store _single_ values - 12, \"dog\", `True`, `False`, etc.\n",
    "\n",
    "Storing and organizing _multiple_ values requires [**data structures**](http://docs.python.org/2/tutorial/datastructures.html), which store multiple individual variables adherent to certain properties, depending on the particular data structure.\n",
    "\n",
    "There are four main data structures in Python - **lists**, **sets**, **tuples**, and **dictionaries**. Each follows slightly different rules and serves a slightly different purpose.\n",
    "\n",
    "## Lists\n",
    "A **list** (aka **array** or **vector**) is a collection of values, following these rules:\n",
    "1. Lists **can** contain duplicate values.\n",
    "2. Lists **can** contain multiple data types.\n",
    "3. Lists **are** ordered.\n",
    "4. Lists are **mutable**, meaning that they can be changed, updated, shortened, and elongated.\n",
    "\n",
    "Lists are declared using brackets: **`[ ]`** or using the **`list()`** function."
   ]
  },
  {
   "cell_type": "code",
   "execution_count": null,
   "metadata": {},
   "outputs": [],
   "source": [
    "my_list = [0,1,2]\n",
    "print(my_list)"
   ]
  },
  {
   "cell_type": "code",
   "execution_count": null,
   "metadata": {},
   "outputs": [],
   "source": [
    "my_list = [1, 2, 2, 3, 3, 3]\n",
    "my_list"
   ]
  },
  {
   "cell_type": "code",
   "execution_count": null,
   "metadata": {},
   "outputs": [],
   "source": [
    "my_list = [\"apple\", \"banana\", 3, 4, 5]\n",
    "my_list"
   ]
  },
  {
   "cell_type": "markdown",
   "metadata": {},
   "source": [
    "Each value in a list has a unique **index**, which can be accessed much in the same exact way that we index letters in strings."
   ]
  },
  {
   "cell_type": "code",
   "execution_count": null,
   "metadata": {},
   "outputs": [],
   "source": [
    "my_list[1]"
   ]
  },
  {
   "cell_type": "code",
   "execution_count": null,
   "metadata": {},
   "outputs": [],
   "source": [
    "my_list[1:]"
   ]
  },
  {
   "cell_type": "code",
   "execution_count": null,
   "metadata": {},
   "outputs": [],
   "source": [
    "my_list[-2:]"
   ]
  },
  {
   "cell_type": "markdown",
   "metadata": {},
   "source": [
    "Like other datatypes, there are several functions and operators that are unique to lists:\n",
    "- The **`.sort()`** operator sorts the list"
   ]
  },
  {
   "cell_type": "code",
   "execution_count": null,
   "metadata": {},
   "outputs": [],
   "source": [
    "#With lists of numbers, the operator automatically sorts least to greatest\n",
    "my_list = [1,2,3,124,-45,-1000,-14]\n",
    "my_list.sort()\n",
    "my_list"
   ]
  },
  {
   "cell_type": "code",
   "execution_count": null,
   "metadata": {},
   "outputs": [],
   "source": [
    "#With lists of strings, the operator automatically sorts A to Z\n",
    "my_list = ['banana','cat','apple']\n",
    "my_list.sort()\n",
    "my_list"
   ]
  },
  {
   "cell_type": "code",
   "execution_count": null,
   "metadata": {},
   "outputs": [],
   "source": [
    "#But we can't sort a list with both datatypes!\n",
    "my_list = [1,2,3,124,-45, 'banana','cat','apple']\n",
    "my_list.sort()\n",
    "my_list"
   ]
  },
  {
   "cell_type": "markdown",
   "metadata": {},
   "source": [
    "- The **`.reverse()`** operator reverses the order of the list"
   ]
  },
  {
   "cell_type": "code",
   "execution_count": null,
   "metadata": {},
   "outputs": [],
   "source": [
    "my_list = [1,2,3,124,-45, 'banana','cat','apple']\n",
    "print(my_list)\n",
    "my_list.reverse()\n",
    "print(my_list)"
   ]
  },
  {
   "cell_type": "markdown",
   "metadata": {},
   "source": [
    "- As with strings, the **`len()`** function returns the length of the list (i.e. the number of individual values it contains)"
   ]
  },
  {
   "cell_type": "code",
   "execution_count": null,
   "metadata": {},
   "outputs": [],
   "source": [
    "print(my_list)\n",
    "print(\"This list is \" + str(len(my_list)) + \" datapoints long.\")"
   ]
  },
  {
   "cell_type": "markdown",
   "metadata": {},
   "source": [
    "- We can **add** and **multiply** lists"
   ]
  },
  {
   "cell_type": "code",
   "execution_count": null,
   "metadata": {},
   "outputs": [],
   "source": [
    "my_list = ['a','b','c']\n",
    "my_list * 5"
   ]
  },
  {
   "cell_type": "code",
   "execution_count": null,
   "metadata": {},
   "outputs": [],
   "source": [
    "list_A = [1, 2, 3]\n",
    "list_B = ['a','b','c']\n",
    "list_A + list_B"
   ]
  },
  {
   "cell_type": "code",
   "execution_count": null,
   "metadata": {},
   "outputs": [],
   "source": [
    "(list_A + list_B) * 3"
   ]
  },
  {
   "cell_type": "markdown",
   "metadata": {},
   "source": [
    "- The **`.index()`** operator finds the index of a a particular value within a string"
   ]
  },
  {
   "cell_type": "code",
   "execution_count": null,
   "metadata": {},
   "outputs": [],
   "source": [
    "my_list = ['a','b','c']\n",
    "my_list.index('b')"
   ]
  },
  {
   "cell_type": "code",
   "execution_count": null,
   "metadata": {},
   "outputs": [],
   "source": [
    "#If a value appears multiple times in a list, the .index() operator returns the first instance\n",
    "my_list = ['dog','cat','cat','fish']\n",
    "my_list.index('cat')"
   ]
  },
  {
   "cell_type": "code",
   "execution_count": null,
   "metadata": {},
   "outputs": [],
   "source": [
    "['a','a','a'].index('a')"
   ]
  },
  {
   "cell_type": "markdown",
   "metadata": {},
   "source": [
    "- Similarly, **`.count()`** operator counts the number of instances of a particular value within a string"
   ]
  },
  {
   "cell_type": "code",
   "execution_count": null,
   "metadata": {},
   "outputs": [],
   "source": [
    "my_list.count('cat')"
   ]
  },
  {
   "cell_type": "code",
   "execution_count": null,
   "metadata": {},
   "outputs": [],
   "source": [
    "[1,1,1,2,3,4,5].count(1)"
   ]
  },
  {
   "cell_type": "markdown",
   "metadata": {},
   "source": [
    "- The **`.insert(index, x)`** operator inserts an element **x** into the list at the specified **index**. _(Elements to the right of this index are shifted over.)_"
   ]
  },
  {
   "cell_type": "code",
   "execution_count": null,
   "metadata": {},
   "outputs": [],
   "source": [
    "my_list = [1,2,3]\n",
    "my_list.insert(2, \"dog\")\n",
    "my_list"
   ]
  },
  {
   "cell_type": "markdown",
   "metadata": {},
   "source": [
    "There are are a variety of basic statistical functions that apply to lists, too:\n",
    "\n",
    "- **`sum()`** adds up all the (numeric) elements of a list\n",
    "- **`max()`** returns the maximum element of a list\n",
    "- **`min()`** returnsthe minimum element of a list"
   ]
  },
  {
   "cell_type": "code",
   "execution_count": null,
   "metadata": {},
   "outputs": [],
   "source": [
    "print(max([1,2,3,4,5]))\n",
    "print(min([1,2,3,4,5]))\n",
    "print(sum([1,2,3,4,5]))"
   ]
  },
  {
   "cell_type": "markdown",
   "metadata": {},
   "source": [
    "### Exercise\n",
    "Write code that computes the **average** and the **median** value of a list of numbers below."
   ]
  },
  {
   "cell_type": "code",
   "execution_count": null,
   "metadata": {},
   "outputs": [],
   "source": [
    "values = [248,3012,986,100,12]"
   ]
  },
  {
   "cell_type": "markdown",
   "metadata": {},
   "source": [
    "#### Average:"
   ]
  },
  {
   "cell_type": "code",
   "execution_count": null,
   "metadata": {},
   "outputs": [],
   "source": [
    "sum(values) / len(values)"
   ]
  },
  {
   "cell_type": "markdown",
   "metadata": {},
   "source": [
    "#### Median:"
   ]
  },
  {
   "cell_type": "code",
   "execution_count": null,
   "metadata": {},
   "outputs": [],
   "source": [
    "values.sort()\n",
    "middle_index = int((len(values) - 1) / 2)\n",
    "\n",
    "values[middle_index]"
   ]
  },
  {
   "cell_type": "markdown",
   "metadata": {},
   "source": [
    "## Sets\n",
    "A **set** is a collection of values following these rules:\n",
    "1. Sets **cannot** contain duplicate values.\n",
    "2. Sets **can** contain multiple data types.\n",
    "3. Sets **are not** ordered.\n",
    "4. Sets are **immutable**, meaning that their values cannot change without re-declaring the variable.\n",
    "\n",
    "Sets are declared using curly braces: **`{ }`** or the **`set()`** function.\n",
    "\n",
    "Some of the functions and operators that apply to lists apply to sets, too. The **`len()`** function, for example, applies to both:"
   ]
  },
  {
   "cell_type": "code",
   "execution_count": null,
   "metadata": {},
   "outputs": [],
   "source": [
    "my_set = {1,2,3, \"banana\", \"cat\", \"dog\"}\n",
    "len(my_set)"
   ]
  },
  {
   "cell_type": "markdown",
   "metadata": {},
   "source": [
    "However, many of the functions and operators that work on lists no longer apply to sets. Because sets are **unordered** and **immutable**, we can't use functions that alter the set or index it:"
   ]
  },
  {
   "cell_type": "code",
   "execution_count": null,
   "metadata": {},
   "outputs": [],
   "source": [
    "my_set[1]"
   ]
  },
  {
   "cell_type": "code",
   "execution_count": null,
   "metadata": {},
   "outputs": [],
   "source": [
    "my_set.sort()"
   ]
  },
  {
   "cell_type": "code",
   "execution_count": null,
   "metadata": {},
   "outputs": [],
   "source": [
    "set_A = {1,2,3}\n",
    "set_B = {3,4,5}\n",
    "set_A + set_B"
   ]
  },
  {
   "cell_type": "markdown",
   "metadata": {},
   "source": [
    "However, there are a handful of useful functions that can _only_ be used on sets. For example:\n",
    "- We can assess the **union** of two sets, which are all the unique elements in _either_ sets, using the **`.union()`** operator"
   ]
  },
  {
   "cell_type": "code",
   "execution_count": null,
   "metadata": {},
   "outputs": [],
   "source": [
    "set_A = {1,2,3}\n",
    "set_B = {3,4,5}\n",
    "set_A.union(set_B)"
   ]
  },
  {
   "cell_type": "code",
   "execution_count": null,
   "metadata": {},
   "outputs": [],
   "source": [
    "#The | character is shorthand for Union\n",
    "{1,2,3} | {2,3,4}"
   ]
  },
  {
   "cell_type": "markdown",
   "metadata": {},
   "source": [
    "- We can assess the **intersection** of two sets, which are all of the unique sets in _both_ sets, using the **`.intersection()`** operator"
   ]
  },
  {
   "cell_type": "code",
   "execution_count": null,
   "metadata": {},
   "outputs": [],
   "source": [
    "set_A = {1,2,3}\n",
    "set_B = {3,4,5}\n",
    "set_A.intersection(set_B)"
   ]
  },
  {
   "cell_type": "code",
   "execution_count": null,
   "metadata": {},
   "outputs": [],
   "source": [
    "#The & character is shorthand for Intersection\n",
    "{1,2,3} & {2,3,4}"
   ]
  },
  {
   "cell_type": "markdown",
   "metadata": {},
   "source": [
    "Other, similar operators include:\n",
    "- **Subset**: Tests whether every element *s* is in *t*\n",
    "- **Superset**: Tests whether every element *t* is in *s*\n",
    "- **Difference**: Returns elements in *s* but not in *t*\n",
    "- **Symmetric Difference**: Returns elements in either set, but not both"
   ]
  },
  {
   "cell_type": "code",
   "execution_count": null,
   "metadata": {},
   "outputs": [],
   "source": [
    "set_A = {1,2,3,4,5}\n",
    "set_B = {1,2,3}"
   ]
  },
  {
   "cell_type": "code",
   "execution_count": null,
   "metadata": {},
   "outputs": [],
   "source": [
    "#Subset:\n",
    "set_A.issubset(set_B)"
   ]
  },
  {
   "cell_type": "code",
   "execution_count": null,
   "metadata": {},
   "outputs": [],
   "source": [
    "#Subset Shorthand:\n",
    "set_A <= set_B"
   ]
  },
  {
   "cell_type": "code",
   "execution_count": null,
   "metadata": {},
   "outputs": [],
   "source": [
    "#Superset:\n",
    "set_A.issuperset(set_B)"
   ]
  },
  {
   "cell_type": "code",
   "execution_count": null,
   "metadata": {},
   "outputs": [],
   "source": [
    "#Superset Shorthand:\n",
    "set_A >= set_B"
   ]
  },
  {
   "cell_type": "code",
   "execution_count": null,
   "metadata": {},
   "outputs": [],
   "source": [
    "#Difference:\n",
    "set_A.difference(set_B)"
   ]
  },
  {
   "cell_type": "code",
   "execution_count": null,
   "metadata": {},
   "outputs": [],
   "source": [
    "#Difference Shorthand:\n",
    "set_A - set_B"
   ]
  },
  {
   "cell_type": "code",
   "execution_count": null,
   "metadata": {},
   "outputs": [],
   "source": [
    "#Symmetric Difference:\n",
    "set_A.symmetric_difference(set_B)"
   ]
  },
  {
   "cell_type": "code",
   "execution_count": null,
   "metadata": {},
   "outputs": [],
   "source": [
    "#Symmetric Difference Shorthand:\n",
    "set_A ^ set_B"
   ]
  },
  {
   "cell_type": "markdown",
   "metadata": {},
   "source": [
    "More on set operators [here](https://docs.python.org/2/library/sets.html).\n",
    "\n",
    "### Exercise\n",
    "Write code that finds the [Jaccard Similarity](https://en.wikipedia.org/wiki/Jaccard_index) between the following two sets:"
   ]
  },
  {
   "cell_type": "code",
   "execution_count": null,
   "metadata": {},
   "outputs": [],
   "source": [
    "set_A = {1,2,3,4,\"cat\",\"dog\",\"banana\"}\n",
    "set_B = {3,4,5,6,\"banana\",\"apple\",\"orange\"}"
   ]
  },
  {
   "cell_type": "code",
   "execution_count": null,
   "metadata": {},
   "outputs": [],
   "source": [
    "len(set_A & set_B) / len(set_A | set_B)"
   ]
  },
  {
   "cell_type": "markdown",
   "metadata": {},
   "source": [
    "## Tuples\n",
    "A **tuple** (aka **sequence**) is a collection of values following these rules:\n",
    "1. Tuples **can** contain duplicate values.\n",
    "2. Tuples **can** contain multiple data types.\n",
    "3. Tuples **are** ordered.\n",
    "4. Tuples are **immutable**, meaning that their values cannot change without re-declaring the variable.\n",
    "\n",
    "Tuples are declared using parentheses: **`( )`** "
   ]
  },
  {
   "cell_type": "code",
   "execution_count": null,
   "metadata": {},
   "outputs": [],
   "source": [
    "my_tuple = (1,2,3,4)"
   ]
  },
  {
   "cell_type": "markdown",
   "metadata": {},
   "source": [
    "Since they are **ordered** but **immutable**, some of the functions that apply to lists also apply to tuples, but others don't.\n",
    "\n",
    "For example, we can index tuples..."
   ]
  },
  {
   "cell_type": "code",
   "execution_count": null,
   "metadata": {},
   "outputs": [],
   "source": [
    "my_tuple[1]"
   ]
  },
  {
   "cell_type": "markdown",
   "metadata": {},
   "source": [
    "... but we can't append, sort, or reverse them ..."
   ]
  },
  {
   "cell_type": "code",
   "execution_count": null,
   "metadata": {},
   "outputs": [],
   "source": [
    "my_tuple.sort()"
   ]
  },
  {
   "cell_type": "markdown",
   "metadata": {},
   "source": [
    "... or assess the union between them."
   ]
  },
  {
   "cell_type": "code",
   "execution_count": null,
   "metadata": {},
   "outputs": [],
   "source": [
    "(1,2,3) | (3,4,5)"
   ]
  },
  {
   "cell_type": "markdown",
   "metadata": {},
   "source": [
    "We can, however, add, subtract, and multiply tuples, the way we would with lists."
   ]
  },
  {
   "cell_type": "code",
   "execution_count": null,
   "metadata": {},
   "outputs": [],
   "source": [
    "(1,2,3) + (3,4,5)"
   ]
  },
  {
   "cell_type": "code",
   "execution_count": null,
   "metadata": {},
   "outputs": [],
   "source": [
    "(1,2,3) * 3"
   ]
  },
  {
   "cell_type": "markdown",
   "metadata": {},
   "source": [
    "Before we go onto the final data type - dictionaries, which operate very differently from the other three - let's review the differences between lists, sets, and tuples.\n",
    "- **[ Lists ]** are **mutable**, **ordered**, collections of **non-unique** values\n",
    "- **{ Sets }** are **immutable**, **un-ordered**, collections of **unique** values\n",
    "- **( Tuples )** are **immutable**, **ordered**, collections of **non-unique** values"
   ]
  },
  {
   "cell_type": "markdown",
   "metadata": {},
   "source": [
    "## Dictionaries\n",
    "The fourth data type, **dictionaries** (aka maps or hashes) are unique in that they involve two different sets of values: the **keys** and then the **values themselves**. Unlike lists or tuples, which are either unordered or indexed by a range of **numbers**, dictionaries are indexed by **keys**, which can be any immutable datatype, most commonly strings.\n",
    "\n",
    "Here's an example:"
   ]
  },
  {
   "cell_type": "code",
   "execution_count": null,
   "metadata": {},
   "outputs": [],
   "source": [
    "my_dict = {\"a\": 1,\n",
    "          \"b\": 2,\n",
    "          \"c\": 3,\n",
    "          \"d\": 4}\n",
    "my_dict"
   ]
  },
  {
   "cell_type": "markdown",
   "metadata": {},
   "source": [
    "Instead of indexing with numbers, we index dictionaries with _values_, like this:"
   ]
  },
  {
   "cell_type": "code",
   "execution_count": null,
   "metadata": {},
   "outputs": [],
   "source": [
    "my_dict[\"a\"]"
   ]
  },
  {
   "cell_type": "code",
   "execution_count": null,
   "metadata": {},
   "outputs": [],
   "source": [
    "my_dict[\"b\"]"
   ]
  },
  {
   "cell_type": "markdown",
   "metadata": {},
   "source": [
    "There are a few operators that are specific to dictionaries:\n",
    "- **`.keys()`** returns a list containing all of the keys of a dictionary "
   ]
  },
  {
   "cell_type": "code",
   "execution_count": null,
   "metadata": {},
   "outputs": [],
   "source": [
    "my_dict.keys()"
   ]
  },
  {
   "cell_type": "code",
   "execution_count": null,
   "metadata": {},
   "outputs": [],
   "source": [
    "list(3,4,5)"
   ]
  },
  {
   "cell_type": "markdown",
   "metadata": {},
   "source": [
    "- **`.values()`** returns a list of all the values in a dictionary"
   ]
  },
  {
   "cell_type": "code",
   "execution_count": null,
   "metadata": {},
   "outputs": [],
   "source": [
    "my_dict.values()"
   ]
  },
  {
   "cell_type": "markdown",
   "metadata": {},
   "source": [
    "- **`pop()`** removes a particular key and its value from the dictionary"
   ]
  },
  {
   "cell_type": "code",
   "execution_count": null,
   "metadata": {},
   "outputs": [],
   "source": [
    "my_dict.pop(\"a\")\n",
    "my_dict"
   ]
  },
  {
   "cell_type": "markdown",
   "metadata": {},
   "source": [
    "Dictionaries are **mutable**, so we can also add new keys and values to a dictionary like so:"
   ]
  },
  {
   "cell_type": "code",
   "execution_count": null,
   "metadata": {},
   "outputs": [],
   "source": [
    "my_dict[\"e\"] = 5\n",
    "my_dict"
   ]
  },
  {
   "cell_type": "markdown",
   "metadata": {},
   "source": [
    "Generally speaking, the _keys_ of a dictionary describe a variable, and the _values_ contain the measurement of the variable itself. To put it another way, think of a dictionary's keys as the _fields_ or _columns_ of a data table and the dictionary's values as the data the occupy the _rows_ of the data table."
   ]
  },
  {
   "cell_type": "code",
   "execution_count": null,
   "metadata": {},
   "outputs": [],
   "source": [
    "my_movie = {\"Title\": \"Star Wars\",\n",
    "            \"Box Office Gross\": 307263857,\n",
    "            \"Genre\" : \"Sci-Fi\",\n",
    "            \"Release Date\" : \"May 25 1977\",\n",
    "            \"Director\" : \"George Lucas\"}"
   ]
  },
  {
   "cell_type": "markdown",
   "metadata": {},
   "source": [
    "Moreover, dictionaries are often _nested_ into other data structures, like lists. To extend the metaphor, each dictionary in a list will behave like a new _row_ in the datable. For  example:"
   ]
  },
  {
   "cell_type": "code",
   "execution_count": null,
   "metadata": {},
   "outputs": [],
   "source": [
    "my_movies = [\n",
    "            {\"Title\": \"Star Wars\",\n",
    "            \"Box Office Gross\": 307263857,\n",
    "            \"Genre\" : \"Sci-Fi\",\n",
    "            \"Release Date\" : \"May 25 1977\",\n",
    "            \"Director\" : \"George Lucas\"},\n",
    "            {\"Title\": \"Jaws\",\n",
    "            \"Box Office Gross\": 260000000,\n",
    "            \"Genre\" : \"Thriller\",\n",
    "            \"Release Date\" : \"June 20 1965\",\n",
    "            \"Director\" : \"Steven Spielberg\"},\n",
    "            {\"Title\": \"The Godfather\",\n",
    "            \"Box Office Gross\": 133698921,\n",
    "            \"Genre\" : \"Drama\",\n",
    "            \"Release Date\" : \"March 15 1972\",\n",
    "            \"Director\" : \"Francis Ford Coppola\"}\n",
    "            ]"
   ]
  },
  {
   "cell_type": "markdown",
   "metadata": {},
   "source": [
    "Alternatively, we might store the data above using a _dictionary_ of dictionaries:"
   ]
  },
  {
   "cell_type": "code",
   "execution_count": null,
   "metadata": {},
   "outputs": [],
   "source": [
    "my_movies = {\"Star Wars\": {\n",
    "                \"Box Office Gross\": 307263857,\n",
    "                \"Genre\" : \"Sci-Fi\",\n",
    "                \"Release Date\" : \"May 25 1977\",\n",
    "                \"Director\" : \"George Lucas\"},\n",
    "            \"Jaws\": {\n",
    "                \"Box Office Gross\": 260000000,\n",
    "                \"Genre\" : \"Thriller\",\n",
    "                \"Release Date\" : \"June 20 1965\",\n",
    "                \"Director\" : \"Steven Spielberg\"\n",
    "                    },\n",
    "            \"The Godfather\": {\n",
    "                \"Box Office Gross\": 133698921,\n",
    "                \"Genre\" : \"Drama\",\n",
    "                \"Release Date\" : \"March 15 1972\",\n",
    "                \"Director\" : \"Francis Ford Coppola\"\n",
    "                    }\n",
    "            }"
   ]
  },
  {
   "cell_type": "markdown",
   "metadata": {},
   "source": [
    "This way, we can more intuitively index the data structure to find particular values:"
   ]
  },
  {
   "cell_type": "code",
   "execution_count": null,
   "metadata": {},
   "outputs": [],
   "source": [
    "my_movies[\"The Godfather\"][\"Director\"]"
   ]
  },
  {
   "cell_type": "markdown",
   "metadata": {},
   "source": [
    "There are advantages and disadvantages to either data structure, and you should think carefully about both before structuring your data.\n",
    "\n",
    "### Exercise\n",
    "Create a dictionary that contains data on several EY employees and index it to find a particular employee's rank."
   ]
  },
  {
   "cell_type": "code",
   "execution_count": null,
   "metadata": {},
   "outputs": [],
   "source": [
    "EY_employees = {\n",
    "    \"Lavinia Seow\":{\n",
    "        \"Rank\":\"Manager\",\n",
    "        \"Office\":\"FSO\",\n",
    "        \"Location\":\"NYC\"\n",
    "    },\n",
    "    \"Carl Case\":{\n",
    "        \"Rank\":\"Senior Manager\",\n",
    "        \"Office\":\"FSO\",\n",
    "        \"Location\":\"NYC\"\n",
    "    },\n",
    "    \"Suryaa Ramaswamy\":{\n",
    "        \"Rank\":\"Senior Manager\",\n",
    "        \"Office\":\"FSO\",\n",
    "        \"Location\":\"NYC\"\n",
    "    }\n",
    "}"
   ]
  },
  {
   "cell_type": "code",
   "execution_count": null,
   "metadata": {},
   "outputs": [],
   "source": [
    "EY_employees[\"Carl Case\"][\"Rank\"]"
   ]
  },
  {
   "cell_type": "markdown",
   "metadata": {},
   "source": [
    "----\n",
    "## Mathematical Operations\n",
    "----\n",
    "One of Python's most distinguishing features is its ability to support mathetical and statistical operations. The two popular add-ons to perform such numerical and scientific operations in Python are `numpy` and `SciPy`. We will go through the basics of Numpy below. Scipy, or Scientific Python, is commonly used for statistical calculations, providing algorithms like regression. Since it covers a wide gamut of functions, we will simply preface its use here for a more detailed application later on in the course.\n",
    "\n",
    "\n",
    "## Numpy\n",
    "Numpy, or Numerical Python, helps users manipute matrices and arrays, select random numbers, and perform basic numerical operations. \n",
    "\n",
    "Arrays are similar to lists in Python, except that every element of an array must be of the same type, typically a numeric type like **float** or **int**."
   ]
  },
  {
   "cell_type": "code",
   "execution_count": null,
   "metadata": {},
   "outputs": [],
   "source": [
    "import numpy as np\n",
    "firstarray = np.array([1, 2, 3, 4, 5], float)\n",
    "firstarray"
   ]
  },
  {
   "cell_type": "code",
   "execution_count": null,
   "metadata": {},
   "outputs": [],
   "source": [
    "type(firstarray)"
   ]
  },
  {
   "cell_type": "markdown",
   "metadata": {},
   "source": [
    "The function array takes two arguments: the list to be converted into the array and the\n",
    "type of each member of the list. Array elements are accessed, sliced, and manipulated just like\n",
    "lists."
   ]
  },
  {
   "cell_type": "code",
   "execution_count": null,
   "metadata": {},
   "outputs": [],
   "source": [
    "firstarray[:2]"
   ]
  },
  {
   "cell_type": "code",
   "execution_count": null,
   "metadata": {},
   "outputs": [],
   "source": [
    "firstarray[3]"
   ]
  },
  {
   "cell_type": "code",
   "execution_count": null,
   "metadata": {},
   "outputs": [],
   "source": [
    "firstarray[0] = 6"
   ]
  },
  {
   "cell_type": "code",
   "execution_count": null,
   "metadata": {},
   "outputs": [],
   "source": [
    "firstarray"
   ]
  },
  {
   "cell_type": "markdown",
   "metadata": {},
   "source": [
    "You can also use numpy to set and manipulate matrices and use **in** to see if a value is present in the array/matrix."
   ]
  },
  {
   "cell_type": "code",
   "execution_count": null,
   "metadata": {},
   "outputs": [],
   "source": [
    "twodarray = np.array([[1, 2, 3], [4, 5, 6]], float)\n",
    "twodarray"
   ]
  },
  {
   "cell_type": "code",
   "execution_count": null,
   "metadata": {},
   "outputs": [],
   "source": [
    "5 in twodarray"
   ]
  },
  {
   "cell_type": "markdown",
   "metadata": {},
   "source": [
    "We can also reshape arrays into matrices with **.reshape**."
   ]
  },
  {
   "cell_type": "code",
   "execution_count": null,
   "metadata": {},
   "outputs": [],
   "source": [
    "secondarray = np.array(range(12), float)\n",
    "secondarray"
   ]
  },
  {
   "cell_type": "code",
   "execution_count": null,
   "metadata": {},
   "outputs": [],
   "source": [
    "secondarray = secondarray.reshape((6, 2))\n",
    "secondarray"
   ]
  },
  {
   "cell_type": "markdown",
   "metadata": {},
   "source": [
    "Converting arrays back into lists is done with **.tolist**."
   ]
  },
  {
   "cell_type": "code",
   "execution_count": null,
   "metadata": {},
   "outputs": [],
   "source": [
    "firstarray.tolist()"
   ]
  },
  {
   "cell_type": "markdown",
   "metadata": {},
   "source": [
    "### Exercise\n",
    "Create a 5x5 matrix of ints that are all zeros."
   ]
  },
  {
   "cell_type": "code",
   "execution_count": null,
   "metadata": {},
   "outputs": [],
   "source": [
    "# Example Solution\n",
    "matrix = np.array([[0,0,0,0,0],[0,0,0,0,0],[0,0,0,0,0],[0,0,0,0,0],[0,0,0,0,0]], int)\n",
    "matrix"
   ]
  },
  {
   "cell_type": "markdown",
   "metadata": {},
   "source": [
    "Another useful feature of numpy is the ability to create all zero arrays/matrices."
   ]
  },
  {
   "cell_type": "code",
   "execution_count": null,
   "metadata": {},
   "outputs": [],
   "source": [
    "shortcut = np.zeros((5,5), int)\n",
    "shortcut"
   ]
  },
  {
   "cell_type": "markdown",
   "metadata": {},
   "source": [
    "List of Useful Numpy Features:\n",
    "* Copy an array/matrix - **.copy**\n",
    "* Concatenate multiple arrays - **.concatenate**\n",
    "* Add, subtract, multiply, divide **within** and **across** arrays/matrices (must be valid operations)"
   ]
  },
  {
   "cell_type": "markdown",
   "metadata": {},
   "source": [
    "Numpy is also used to generate **random numbers** with the random module.\n",
    "\n",
    "Some Common **np.random** Arguments:\n",
    "* **`rand(d0, d1, ..., dn)`**\t- Random values in a given shape.\n",
    "* **`randn(d0, d1, ..., dn)`** - Return a sample (or samples) from the “standard normal” distribution.\n",
    "* **`randint(low[, high, size, dtype])`**\t- Return random integers from low (inclusive) to high (exclusive)."
   ]
  },
  {
   "cell_type": "code",
   "execution_count": null,
   "metadata": {},
   "outputs": [],
   "source": [
    "from numpy import random\n",
    "np.random.rand(3,2)"
   ]
  },
  {
   "cell_type": "code",
   "execution_count": null,
   "metadata": {},
   "outputs": [],
   "source": [
    "np.random.randint(3, 9)"
   ]
  },
  {
   "cell_type": "code",
   "execution_count": null,
   "metadata": {},
   "outputs": [],
   "source": [
    "for i in range(12):\n",
    "    print (np.random.randint(0,10))"
   ]
  },
  {
   "cell_type": "markdown",
   "metadata": {},
   "source": [
    "For more information on Numpy, consult the [documentation](https://docs.scipy.org/doc/numpy-1.14.0/)."
   ]
  },
  {
   "cell_type": "markdown",
   "metadata": {},
   "source": [
    "----\n",
    "## Control Flow Statements & Functions\n",
    "----"
   ]
  },
  {
   "cell_type": "markdown",
   "metadata": {},
   "source": [
    "So far, we've written only code that flows linearly and without interruption from left to right, top to bottom - code that carries out one and only one set of instructions. **Control flow statements**, however, allow us to repeat, withold, or alter instructions based on data that we encounter. \n",
    "\n",
    "## If/Then Statements\n",
    "The most common and essential control flow statement is a simple **if/then** statement, which are exactly what they sound like. They work like this:"
   ]
  },
  {
   "cell_type": "code",
   "execution_count": null,
   "metadata": {},
   "outputs": [],
   "source": [
    "value_A = 4\n",
    "value_B = 3\n",
    "if value_A > value_B:\n",
    "    print(\"Value A is greater!\")"
   ]
  },
  {
   "cell_type": "markdown",
   "metadata": {},
   "source": [
    "An **if/then** statement assesses a boolean variable or value and then runs the indented code beneath if and only if the boolean is true.\n",
    "\n",
    "If the boolean isn't true, however, we can also add an **else** clause."
   ]
  },
  {
   "cell_type": "code",
   "execution_count": null,
   "metadata": {},
   "outputs": [],
   "source": [
    "value_A = 3\n",
    "value_B = 4\n",
    "if value_A > value_B:\n",
    "    print(\"Value A is greater!\")\n",
    "else:\n",
    "    print(\"Value A is not greater.\")"
   ]
  },
  {
   "cell_type": "markdown",
   "metadata": {},
   "source": [
    "Or, instead of using a catch-all else clause, we can introduce _another_ **elif** clause to assess a different boolean before defaulting to the **else** clause."
   ]
  },
  {
   "cell_type": "code",
   "execution_count": null,
   "metadata": {},
   "outputs": [],
   "source": [
    "value_A = 4\n",
    "value_B = 4\n",
    "if value_A > value_B:\n",
    "    print(\"Value A is greater!\")\n",
    "elif value_A == value_B:\n",
    "    print(\"The two values are equal.\")\n",
    "else:\n",
    "    print(\"Value A is not greater.\")"
   ]
  },
  {
   "cell_type": "markdown",
   "metadata": {},
   "source": [
    "Remember, Python creates boolean values in a variety of different ways using a variety of different data types, so there are many different expressions we can use in if/then statements."
   ]
  },
  {
   "cell_type": "code",
   "execution_count": null,
   "metadata": {},
   "outputs": [],
   "source": [
    "my_grocery_list = (\"apples\", \"bananas\", \"cranberries\")\n",
    "\n",
    "if \"apples\" in my_grocery_list:\n",
    "    print(\"Don't forget apples!\")\n",
    "else:\n",
    "    print(\"Don't buy any apples.\")"
   ]
  },
  {
   "cell_type": "code",
   "execution_count": null,
   "metadata": {},
   "outputs": [],
   "source": [
    "quarterly_revenue = 10000\n",
    "quarterly_cost = 50000\n",
    "if quarterly_revenue > quarterly_cost:\n",
    "    print(\"We made money this quarter.\")\n",
    "else:\n",
    "    print(\"We lost money this quarter.\")"
   ]
  },
  {
   "cell_type": "markdown",
   "metadata": {},
   "source": [
    "### Exercise\n",
    "Write an if/then statement that, using your **EY Employees** variable from last exercise, tells us whether two employees work in the same office. "
   ]
  },
  {
   "cell_type": "code",
   "execution_count": null,
   "metadata": {},
   "outputs": [],
   "source": [
    "if EY_employees[\"Carl Case\"][\"Office\"] == EY_employees[\"Suryaa Ramaswamy\"][\"Office\"]:\n",
    "    print('Carl and Suryaa work in the same office!')\n",
    "else:\n",
    "    print('Carl and Suryaa don\\'t work in the same office.')"
   ]
  },
  {
   "cell_type": "markdown",
   "metadata": {},
   "source": [
    "## Loops\n",
    "Another essentially important control flow statement is the **loop**, the most common form of which is the **for loop**. A **loop** instructs the program to carry out a set of instructions repeatedly. More specificially, a **for loop** instructs the program to carry out the instructions once _for_ each element in a data structure. "
   ]
  },
  {
   "cell_type": "code",
   "execution_count": null,
   "metadata": {},
   "outputs": [],
   "source": [
    "my_numbers = [1,2,3,4,5]\n",
    "for number in my_numbers:\n",
    "    print(number * 5)"
   ]
  },
  {
   "cell_type": "markdown",
   "metadata": {},
   "source": [
    "For loops can be used on any data _iterable_ data structure, such as the ones we've learned about so far:"
   ]
  },
  {
   "cell_type": "code",
   "execution_count": null,
   "metadata": {},
   "outputs": [],
   "source": [
    "for i in (1,2,3):\n",
    "    print(i)"
   ]
  },
  {
   "cell_type": "code",
   "execution_count": null,
   "metadata": {},
   "outputs": [],
   "source": [
    "for i in {1,2,3}:\n",
    "    print(i)"
   ]
  },
  {
   "cell_type": "code",
   "execution_count": null,
   "metadata": {},
   "outputs": [],
   "source": [
    "for i in [1,2,3]:\n",
    "    print(i)"
   ]
  },
  {
   "cell_type": "markdown",
   "metadata": {},
   "source": [
    "The **`range()`** function is very useful in constructing for loops. It works by taking in three arguments - the **start**, **stop**, and **increment** - and returning a **range object** with all of the integers between the start and stop, by the increment.\n",
    "\n",
    "For example, if we wanted to print all of the numbers between 0 and 100, going by increments of 5:"
   ]
  },
  {
   "cell_type": "code",
   "execution_count": null,
   "metadata": {},
   "outputs": [],
   "source": [
    "for i in range(0,100,5):\n",
    "    print(i)"
   ]
  },
  {
   "cell_type": "markdown",
   "metadata": {},
   "source": [
    "The second type of loop is the **while loop**, which assesses whether or not a condition is true before executing the code. Before every itereation of a while loop, the program will stop and assess whether or a certain boolean value is true. If it is, then it will execute the code. If it isn't, then it will terminate the program. \n",
    "\n",
    "It works like this:"
   ]
  },
  {
   "cell_type": "code",
   "execution_count": null,
   "metadata": {},
   "outputs": [],
   "source": [
    "index = 0\n",
    "\n",
    "while index < 10:\n",
    "    print(str(index) + \" is less than 10, so I'll keep going.\")\n",
    "    index += 1\n",
    "    \n",
    "print(str(index), \"isn't less than 10 so I need to stop.\")"
   ]
  },
  {
   "cell_type": "markdown",
   "metadata": {},
   "source": [
    "### Exercise\n",
    "Write code that finds all of the unique, ordered combinations of three digits (e.g 1-1-1, 1-1-2, 1-1-3, etc.). "
   ]
  },
  {
   "cell_type": "code",
   "execution_count": null,
   "metadata": {},
   "outputs": [],
   "source": [
    "possibilities = []\n",
    "nums = range(10)\n",
    "for i in nums:\n",
    "    for j in nums:\n",
    "        for k in nums:\n",
    "            addition = [i,j,k]\n",
    "            if addition not in possibilities:\n",
    "                possibilities.append(addition)\n",
    "                \n",
    "possibilities"
   ]
  },
  {
   "cell_type": "markdown",
   "metadata": {},
   "source": [
    "## Functions\n",
    "The final concept that this review will cover is the **function**. Functions are a hugely important programming concept, as they allow us to save entire chunks of code and re-use them based on predefined inputs.\n",
    "\n",
    "In fact, we've already encountered a number of built-in Python functions, like `print()`, `min()`, `max()`, and `len()`. These functions come pre-loaded with Python and are unchangeable, but we can also write our own **user-defined functions** that will execute a pre-written block of code based on inputs.\n",
    "\n",
    "For example, if we wanted to write a function that returned the **square** of two numbers, we'd do it like this:"
   ]
  },
  {
   "cell_type": "code",
   "execution_count": null,
   "metadata": {},
   "outputs": [],
   "source": [
    "def get_square(x):\n",
    "    square = x * x\n",
    "    return square"
   ]
  },
  {
   "cell_type": "markdown",
   "metadata": {},
   "source": [
    "We can now use the function on whatever inputs we want:"
   ]
  },
  {
   "cell_type": "code",
   "execution_count": null,
   "metadata": {},
   "outputs": [],
   "source": [
    "get_square(5)"
   ]
  },
  {
   "cell_type": "code",
   "execution_count": null,
   "metadata": {},
   "outputs": [],
   "source": [
    "get_square(12)"
   ]
  },
  {
   "cell_type": "markdown",
   "metadata": {},
   "source": [
    "In defining functions, we use the **`def`** keyword to name the function; then we specify which arguments the function will take in; and finally we tell the function what to `return`.\n",
    "\n",
    "In the case above, the function takes only one argument - `x`, or the number we want to square. It then performs a simple calculation, multiplying the input by itself, and returns the result.\n",
    "\n",
    "Very commonly, functions will internally employ employ control flow statements. For example, if we wanted to compute the [factorial](https://en.wikipedia.org/wiki/Factorial) of a number, we might need a for loop within our function:"
   ]
  },
  {
   "cell_type": "code",
   "execution_count": null,
   "metadata": {},
   "outputs": [],
   "source": [
    "def get_factorial(x):\n",
    "    factorial = 1\n",
    "    #Remember to exclude zero from the range!\n",
    "    for i in range (1,x):\n",
    "        factorial = factorial * i\n",
    "    return factorial"
   ]
  },
  {
   "cell_type": "code",
   "execution_count": null,
   "metadata": {},
   "outputs": [],
   "source": [
    "get_factorial(10)"
   ]
  },
  {
   "cell_type": "markdown",
   "metadata": {},
   "source": [
    "If/else statements are also extremely common in functions. Try using them in the following exercise.\n",
    "\n",
    "### Exercise\n",
    "Write a function `divisible_by` that returns a boolean to determine whether one number, x, is divisible by another, y. The function should take x and y as inputs."
   ]
  },
  {
   "cell_type": "code",
   "execution_count": null,
   "metadata": {},
   "outputs": [],
   "source": [
    "def is_divisible(x,y):\n",
    "    if x % y == 0:\n",
    "        return True\n",
    "    else:\n",
    "        return False"
   ]
  },
  {
   "cell_type": "code",
   "execution_count": null,
   "metadata": {},
   "outputs": [],
   "source": [
    "is_divisible(10,5)"
   ]
  },
  {
   "cell_type": "code",
   "execution_count": null,
   "metadata": {},
   "outputs": [],
   "source": [
    "is_divisible(13,3)"
   ]
  },
  {
   "cell_type": "markdown",
   "metadata": {},
   "source": [
    "_Note: Actually, you could write this function without an if/else statement. Give it a try:_"
   ]
  },
  {
   "cell_type": "code",
   "execution_count": null,
   "metadata": {},
   "outputs": [],
   "source": [
    "def is_divisible(x,y):\n",
    "    return x % y == 0"
   ]
  },
  {
   "cell_type": "code",
   "execution_count": null,
   "metadata": {},
   "outputs": [],
   "source": [
    "is_divisible(10,5)"
   ]
  },
  {
   "cell_type": "code",
   "execution_count": null,
   "metadata": {},
   "outputs": [],
   "source": [
    "is_divisible(13,3)"
   ]
  },
  {
   "cell_type": "markdown",
   "metadata": {},
   "source": [
    "This concludes our review of the basics in Python. Even experienced programmers forget the nuanced differences between the datatypes and the various built-in functions and operators, so we encourage you to consult this workbook and the cheatsheets below whenever you're confused. \n",
    "\n",
    "But again, if these concepts seemed unfamiliar, or if you're not quite sure about how programming languages work or interpret code, it's a good idea to brush up on your programming fundamentals, using the resources below.\n",
    "\n",
    "### Other Useful Resources\n",
    "- [Simon Allardice - Programming Fundamentals](https://www.lynda.com/Programming-Foundations-tutorials/Foundations-Programming-Fundamentals/83603-2.html)\n",
    "- [Python Basics Cheatsheet](https://s3.amazonaws.com/assets.datacamp.com/blog_assets/PythonForDataScience.pdf)\n",
    "- [Python for Data Science Cheatsheet](http://datacamp-community.s3.amazonaws.com/50d31142-3de0-4159-89b9-18b718a728ef)"
   ]
  }
 ],
 "metadata": {
  "kernelspec": {
   "display_name": "Python 3",
   "language": "python",
   "name": "python3"
  },
  "language_info": {
   "codemirror_mode": {
    "name": "ipython",
    "version": 3
   },
   "file_extension": ".py",
   "mimetype": "text/x-python",
   "name": "python",
   "nbconvert_exporter": "python",
   "pygments_lexer": "ipython3",
   "version": "3.6.5"
  }
 },
 "nbformat": 4,
 "nbformat_minor": 2
}
